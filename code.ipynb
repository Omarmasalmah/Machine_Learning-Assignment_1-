{
 "cells": [
  {
   "cell_type": "markdown",
   "metadata": {},
   "source": [
    "# Car Dataset Analysis and Linear Regression"
   ]
  },
  {
   "cell_type": "markdown",
   "metadata": {},
   "source": [
    "This project involves the analysis of a car dataset using Python and Pandas, focusing on exploring, cleaning, and modeling the data. The dataset contains information about various car features, including fuel economy (mpg), horsepower, acceleration, and more."
   ]
  },
  {
   "cell_type": "markdown",
   "metadata": {},
   "source": [
    "## Tasks"
   ]
  },
  {
   "cell_type": "markdown",
   "metadata": {},
   "source": [
    "### Step 1: Read the dataset and examine how many features and examples does it have."
   ]
  },
  {
   "cell_type": "code",
   "execution_count": null,
   "metadata": {},
   "outputs": [],
   "source": [
    "import pandas as pd\n",
    "\n",
    "# The path of dataset\n",
    "file_path = 'cars.csv'\n",
    "\n",
    "# Load the dataset into a Pandas DataFrame\n",
    "Dataframe = pd.read_csv(file_path)\n",
    "\n",
    "num_examples, num_features = Dataframe.shape\n",
    "print(f\"\\nThe dataset has {num_examples} examples and {num_features} features.\")"
   ]
  },
  {
   "cell_type": "markdown",
   "metadata": {},
   "source": [
    "### Step 2: Check for missing values"
   ]
  },
  {
   "cell_type": "code",
   "execution_count": null,
   "metadata": {},
   "outputs": [],
   "source": [
    "missing_values = Dataframe.isnull().sum()\n",
    "print(f\"\\nMissing values:\\n{missing_values}\")"
   ]
  },
  {
   "cell_type": "markdown",
   "metadata": {},
   "source": [
    "### Step 3: Fill missing values using a proper imputation method."
   ]
  },
  {
   "cell_type": "code",
   "execution_count": null,
   "metadata": {},
   "outputs": [],
   "source": [
    "from sklearn.impute import SimpleImputer\n",
    "\n",
    "# Separate numeric and non-numeric columns\n",
    "numeric_columns = Dataframe.select_dtypes(include='number').columns\n",
    "non_numeric_columns = Dataframe.select_dtypes(exclude='number').columns\n",
    "\n",
    "# Fill missing values for numeric columns using the mean strategy\n",
    "numeric_imputer = SimpleImputer(strategy='mean')\n",
    "Dataframe[numeric_columns] = numeric_imputer.fit_transform(Dataframe[numeric_columns])\n",
    "\n",
    "# Fill missing values for non-numeric columns using the most frequent value (mode)\n",
    "non_numeric_imputer = SimpleImputer(strategy='most_frequent')\n",
    "Dataframe[non_numeric_columns] = non_numeric_imputer.fit_transform(Dataframe[non_numeric_columns])\n",
    "\n",
    "print(\"Missing values after imputation:\")\n",
    "print(Dataframe.isnull().sum())"
   ]
  },
  {
   "cell_type": "markdown",
   "metadata": {},
   "source": [
    "### Step 4: Box plot for fuel economy by country."
   ]
  },
  {
   "cell_type": "code",
   "execution_count": null,
   "metadata": {},
   "outputs": [],
   "source": [
    "import matplotlib.pyplot as plt\n",
    "import seaborn as sns\n",
    "\n",
    "sns.boxplot(x='origin', y='mpg', data=Dataframe)\n",
    "plt.title('4. Fuel Economy by Country')\n",
    "plt.xlabel('Country')\n",
    "plt.ylabel('Miles Per Gallon (mpg)')\n",
    "plt.show()"
   ]
  },
  {
   "cell_type": "markdown",
   "metadata": {},
   "source": [
    "### Step 5: Histograms for each feature"
   ]
  },
  {
   "cell_type": "code",
   "execution_count": null,
   "metadata": {},
   "outputs": [],
   "source": [
    "sns.histplot(Dataframe['acceleration'])\n",
    "plt.title('5. Acceleration Distribution')\n",
    "plt.xlabel('Acceleration')\n",
    "plt.ylabel('Density')\n",
    "plt.show()"
   ]
  },
  {
   "cell_type": "code",
   "execution_count": null,
   "metadata": {},
   "outputs": [],
   "source": [
    "sns.histplot(Dataframe['horsepower'], color = 'red')\n",
    "plt.title('5. Horsepower Distribution')\n",
    "plt.xlabel('Horsepower')\n",
    "plt.ylabel('Density')\n",
    "plt.show()"
   ]
  },
  {
   "cell_type": "code",
   "execution_count": null,
   "metadata": {},
   "outputs": [],
   "source": [
    "sns.histplot(Dataframe['mpg'], color = 'green')\n",
    "plt.title('5. MPG Distribution')\n",
    "plt.xlabel('MPG')\n",
    "plt.ylabel('Density')\n",
    "plt.show()"
   ]
  }
 ],
 "metadata": {
  "kernelspec": {
   "display_name": "Python 3",
   "language": "python",
   "name": "python3"
  },
  "language_info": {
   "codemirror_mode": {
    "name": "ipython",
    "version": 3
   },
   "file_extension": ".py",
   "mimetype": "text/x-python",
   "name": "python",
   "nbconvert_exporter": "python",
   "pygments_lexer": "ipython3",
   "version": "3.11.4"
  },
  "orig_nbformat": 4
 },
 "nbformat": 4,
 "nbformat_minor": 2
}
